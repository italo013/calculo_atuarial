{
 "cells": [
  {
   "cell_type": "code",
   "execution_count": 128,
   "source": [
    "#Importando Bibliotecas\r\n",
    "import pandas as pd\r\n",
    "import numpy as np\r\n",
    "import os\r\n",
    "import datetime\r\n",
    "from pathlib import Path"
   ],
   "outputs": [],
   "metadata": {}
  },
  {
   "cell_type": "code",
   "execution_count": 129,
   "source": [
    "#Selecionando as Variáveis\r\n",
    "ano_dt_base = 2020\r\n",
    "tx_juros = 0.06\r\n",
    "cres_sal = 0.01\r\n",
    "cres_benef = 0.01"
   ],
   "outputs": [],
   "metadata": {}
  },
  {
   "cell_type": "markdown",
   "source": [
    "Colunas que vai precisar pro cálculo:\r\n",
    "\r\n",
    "LOTAÇÃO\tMATRICULA\tGRUPO\tCRITERIO DE APOSENTADORIA\tSEXO\tDTNASC\tDTADM\tDATACARGO\tSALPART\tCARREIRA\tTSANT\tCONJUGE\tDTNASCONJ\tDTNASDEPINV\tDTNASDEPVAL"
   ],
   "metadata": {}
  },
  {
   "cell_type": "code",
   "execution_count": 242,
   "source": [
    "#Importando as bases\r\n",
    "bd_ativos = pd.read_csv(str(Path(os.getcwd())) + '\\\\1.SERVIDORES.csv', encoding='UTF-8', sep=';')#, thousands=',')\r\n",
    "\r\n",
    "#Convertendo os dados para float\r\n",
    "bd_ativos['DT_NASC_SERVIDOR'] = pd.to_datetime(bd_ativos['DT_NASC_SERVIDOR'], yearfirst=True, format='%d/%m/%Y')\r\n",
    "bd_ativos['DT_ING_ENTE'] = pd.to_datetime(bd_ativos['DT_ING_ENTE'], yearfirst=True, format='%d/%m/%Y')\r\n",
    "bd_ativos['DT_ING_CARGO'] = pd.to_datetime(bd_ativos['DT_ING_ENTE'], yearfirst=True, format='%d/%m/%Y')\r\n",
    "bd_ativos['VL_BASE_CALCULO'] = bd_ativos['VL_BASE_CALCULO'].str.replace(',', '.').astype(float)\r\n",
    "bd_ativos['DT_NASC_CONJUGE'] = pd.to_datetime(bd_ativos['DT_NASC_CONJUGE'], yearfirst=True, format='%d/%m/%Y')\r\n",
    "\r\n",
    "#bd_ativos['IDADE'] = 2021 - bd_ativos['DT_NASC_SERVIDOR'].dt.strftime('%Y').astype(int)\r\n"
   ],
   "outputs": [],
   "metadata": {}
  },
  {
   "cell_type": "code",
   "execution_count": 141,
   "source": [
    "#Calculando as Estatísticas dos Ativos\r\n",
    "statistics_ativos = pd.DataFrame()\r\n",
    "\r\n",
    "statistics_ativos['IDADE_SERVIDOR'] = ano_dt_base - bd_ativos['DT_NASC_SERVIDOR'].dt.strftime('%Y').astype(int) #Ano da Data-Base - Data de Nascimento do Servidor\r\n",
    "statistics_ativos['IDADE_ADM'] =  bd_ativos['DT_ING_ENTE'].dt.strftime('%Y').astype(int) - bd_ativos['DT_NASC_SERVIDOR'].dt.strftime('%Y').astype(int) #Data de Ingresso no Ente - Data de Nascimento do Servidor\r\n",
    "#statistics_ativos['IDADE_CONJUGE'] =  ano_dt_base - bd_ativos['DT_NASC_CONJUGE'].dt.strftime('%Y').astype(int) #Ano da Data-Base - Data de Nascimento do Cônjuge\r\n",
    "#statistics_ativos['IDADE'] = ano_dt_base - bd_ativos['DT_NASC_SERVIDOR'].dt.strftime('%Y').astype(int)\r\n",
    "#statistics_ativos['TSANT'] = bd_ativos['DT_ING_ENTE'] - pd.to_timedelta(bd_ativos['NU_TEMPO_RGPS'], unit='d')\r\n",
    "\r\n",
    "statistics_ativos"
   ],
   "outputs": [
    {
     "output_type": "execute_result",
     "data": {
      "text/html": [
       "<div>\n",
       "<style scoped>\n",
       "    .dataframe tbody tr th:only-of-type {\n",
       "        vertical-align: middle;\n",
       "    }\n",
       "\n",
       "    .dataframe tbody tr th {\n",
       "        vertical-align: top;\n",
       "    }\n",
       "\n",
       "    .dataframe thead th {\n",
       "        text-align: right;\n",
       "    }\n",
       "</style>\n",
       "<table border=\"1\" class=\"dataframe\">\n",
       "  <thead>\n",
       "    <tr style=\"text-align: right;\">\n",
       "      <th></th>\n",
       "      <th>IDADE_SERVIDOR</th>\n",
       "      <th>IDADE_ADM</th>\n",
       "    </tr>\n",
       "  </thead>\n",
       "  <tbody>\n",
       "    <tr>\n",
       "      <th>0</th>\n",
       "      <td>40</td>\n",
       "      <td>20</td>\n",
       "    </tr>\n",
       "    <tr>\n",
       "      <th>1</th>\n",
       "      <td>45</td>\n",
       "      <td>42</td>\n",
       "    </tr>\n",
       "    <tr>\n",
       "      <th>2</th>\n",
       "      <td>48</td>\n",
       "      <td>27</td>\n",
       "    </tr>\n",
       "    <tr>\n",
       "      <th>3</th>\n",
       "      <td>31</td>\n",
       "      <td>24</td>\n",
       "    </tr>\n",
       "    <tr>\n",
       "      <th>4</th>\n",
       "      <td>42</td>\n",
       "      <td>35</td>\n",
       "    </tr>\n",
       "    <tr>\n",
       "      <th>...</th>\n",
       "      <td>...</td>\n",
       "      <td>...</td>\n",
       "    </tr>\n",
       "    <tr>\n",
       "      <th>357</th>\n",
       "      <td>45</td>\n",
       "      <td>23</td>\n",
       "    </tr>\n",
       "    <tr>\n",
       "      <th>358</th>\n",
       "      <td>26</td>\n",
       "      <td>25</td>\n",
       "    </tr>\n",
       "    <tr>\n",
       "      <th>359</th>\n",
       "      <td>36</td>\n",
       "      <td>25</td>\n",
       "    </tr>\n",
       "    <tr>\n",
       "      <th>360</th>\n",
       "      <td>44</td>\n",
       "      <td>31</td>\n",
       "    </tr>\n",
       "    <tr>\n",
       "      <th>361</th>\n",
       "      <td>57</td>\n",
       "      <td>44</td>\n",
       "    </tr>\n",
       "  </tbody>\n",
       "</table>\n",
       "<p>362 rows × 2 columns</p>\n",
       "</div>"
      ],
      "text/plain": [
       "     IDADE_SERVIDOR  IDADE_ADM\n",
       "0                40         20\n",
       "1                45         42\n",
       "2                48         27\n",
       "3                31         24\n",
       "4                42         35\n",
       "..              ...        ...\n",
       "357              45         23\n",
       "358              26         25\n",
       "359              36         25\n",
       "360              44         31\n",
       "361              57         44\n",
       "\n",
       "[362 rows x 2 columns]"
      ]
     },
     "metadata": {},
     "execution_count": 141
    }
   ],
   "metadata": {}
  },
  {
   "cell_type": "code",
   "execution_count": 200,
   "source": [
    "#bd_ativos.columns\r\n",
    "#bd_ativos['DT_NASC_CONJUGE'].head(15)\r\n",
    "bd_ativos['DT_NASC_CONJUGE'].head(15) #28/08/1960"
   ],
   "outputs": [
    {
     "output_type": "execute_result",
     "data": {
      "text/plain": [
       "0           NaT\n",
       "1           NaT\n",
       "2           NaT\n",
       "3           NaT\n",
       "4           NaT\n",
       "5           NaT\n",
       "6           NaT\n",
       "7           NaT\n",
       "8           NaT\n",
       "9    1960-08-28\n",
       "10          NaT\n",
       "11          NaT\n",
       "12          NaT\n",
       "13          NaT\n",
       "14   1983-11-18\n",
       "Name: DT_NASC_CONJUGE, dtype: datetime64[ns]"
      ]
     },
     "metadata": {},
     "execution_count": 200
    }
   ],
   "metadata": {}
  },
  {
   "cell_type": "code",
   "execution_count": 259,
   "source": [
    "#statistics_ativos['IDADE_CONJUGE'] = np.where(bd_ativos['DT_NASC_CONJUGE'] == '', \"False\", \"True\")\r\n",
    "#statistics_ativos['IDADE_CONJUGE'] = bd_ativos['DT_NASC_CONJUGE'].apply(lambda x: 'True' if x pd.isna(bd_ativos['DT_NASC_CONJUGE']) else 'False')\r\n",
    "#statistics_ativos['IDADE_CONJUGE'].apply(lambda x: 'True' if x.bd_ativos['NU_TEMPO_RGPS'] > 5000 else 'False')\r\n",
    "#statistics_ativos['IDADE_CONJUGE'] = np.where(pd.isna(bd_ativos['DT_NASC_CONJUGE']), \"\", \"10\")\r\n",
    "#statistics_ativos['IDADE_CONJUGE'].head(15)\r\n",
    "\r\n",
    "for i in range(127):\r\n",
    "    if pd.notnull(bd_ativos['DT_NASC_CONJUGE']).loc[i] == 'True':\r\n",
    "        statistics_ativos['IDADE_CONJUGE'].loc[i] = ano_dt_base - bd_ativos['DT_NASC_CONJUGE'].dt.strftime('%Y').astype(int).loc[i]\r\n",
    "    else:\r\n",
    "        statistics_ativos['IDADE_CONJUGE'].loc[i] = ''\r\n",
    "\r\n",
    "statistics_ativos['IDADE_CONJUGE'].head(15)"
   ],
   "outputs": [
    {
     "output_type": "execute_result",
     "data": {
      "text/plain": [
       "0     \n",
       "1     \n",
       "2     \n",
       "3     \n",
       "4     \n",
       "5     \n",
       "6     \n",
       "7     \n",
       "8     \n",
       "9     \n",
       "10    \n",
       "11    \n",
       "12    \n",
       "13    \n",
       "14    \n",
       "Name: IDADE_CONJUGE, dtype: object"
      ]
     },
     "metadata": {},
     "execution_count": 259
    }
   ],
   "metadata": {}
  },
  {
   "cell_type": "code",
   "execution_count": 256,
   "source": [
    "#statistics_ativos['IDADE_CONJUGE'] = np.where(pd.isna(bd_ativos['DT_NASC_CONJUGE']), \"\", \"10\")\r\n",
    "statistics_ativos['IDADE_CONJUGE'] = pd.notnull(bd_ativos['DT_NASC_CONJUGE'])\r\n",
    "statistics_ativos['IDADE_CONJUGE'].head(15)\r\n",
    "#statistics_ativos['IDADE_CONJUGE'].loc[9]"
   ],
   "outputs": [
    {
     "output_type": "execute_result",
     "data": {
      "text/plain": [
       "0     False\n",
       "1     False\n",
       "2     False\n",
       "3     False\n",
       "4     False\n",
       "5     False\n",
       "6     False\n",
       "7     False\n",
       "8     False\n",
       "9      True\n",
       "10    False\n",
       "11    False\n",
       "12    False\n",
       "13    False\n",
       "14     True\n",
       "Name: IDADE_CONJUGE, dtype: bool"
      ]
     },
     "metadata": {},
     "execution_count": 256
    }
   ],
   "metadata": {}
  },
  {
   "cell_type": "code",
   "execution_count": 55,
   "source": [
    "bd_ativos['VL_BASE_CALCULO'] = bd_ativos['VL_BASE_CALCULO'].str.replace(',', '.').astype(float)\r\n",
    "#bd_ativos['VL_BASE_CALCULO'] = bd_ativos['VL_BASE_CALCULO'].astype(float)\r\n",
    "bd_ativos['TESTE'] = bd_ativos['VL_BASE_CALCULO'] + 1000\r\n",
    "bd_ativos[['TESTE', 'VL_BASE_CALCULO']]"
   ],
   "outputs": [
    {
     "output_type": "execute_result",
     "data": {
      "text/html": [
       "<div>\n",
       "<style scoped>\n",
       "    .dataframe tbody tr th:only-of-type {\n",
       "        vertical-align: middle;\n",
       "    }\n",
       "\n",
       "    .dataframe tbody tr th {\n",
       "        vertical-align: top;\n",
       "    }\n",
       "\n",
       "    .dataframe thead th {\n",
       "        text-align: right;\n",
       "    }\n",
       "</style>\n",
       "<table border=\"1\" class=\"dataframe\">\n",
       "  <thead>\n",
       "    <tr style=\"text-align: right;\">\n",
       "      <th></th>\n",
       "      <th>TESTE</th>\n",
       "      <th>VL_BASE_CALCULO</th>\n",
       "    </tr>\n",
       "  </thead>\n",
       "  <tbody>\n",
       "    <tr>\n",
       "      <th>0</th>\n",
       "      <td>2100.00</td>\n",
       "      <td>1100.00</td>\n",
       "    </tr>\n",
       "    <tr>\n",
       "      <th>1</th>\n",
       "      <td>2100.00</td>\n",
       "      <td>1100.00</td>\n",
       "    </tr>\n",
       "    <tr>\n",
       "      <th>2</th>\n",
       "      <td>2708.84</td>\n",
       "      <td>1708.84</td>\n",
       "    </tr>\n",
       "    <tr>\n",
       "      <th>3</th>\n",
       "      <td>4378.49</td>\n",
       "      <td>3378.49</td>\n",
       "    </tr>\n",
       "    <tr>\n",
       "      <th>4</th>\n",
       "      <td>2100.00</td>\n",
       "      <td>1100.00</td>\n",
       "    </tr>\n",
       "    <tr>\n",
       "      <th>...</th>\n",
       "      <td>...</td>\n",
       "      <td>...</td>\n",
       "    </tr>\n",
       "    <tr>\n",
       "      <th>357</th>\n",
       "      <td>3410.58</td>\n",
       "      <td>2410.58</td>\n",
       "    </tr>\n",
       "    <tr>\n",
       "      <th>358</th>\n",
       "      <td>3972.73</td>\n",
       "      <td>2972.73</td>\n",
       "    </tr>\n",
       "    <tr>\n",
       "      <th>359</th>\n",
       "      <td>4326.21</td>\n",
       "      <td>3326.21</td>\n",
       "    </tr>\n",
       "    <tr>\n",
       "      <th>360</th>\n",
       "      <td>3141.74</td>\n",
       "      <td>2141.74</td>\n",
       "    </tr>\n",
       "    <tr>\n",
       "      <th>361</th>\n",
       "      <td>4426.86</td>\n",
       "      <td>3426.86</td>\n",
       "    </tr>\n",
       "  </tbody>\n",
       "</table>\n",
       "<p>362 rows × 2 columns</p>\n",
       "</div>"
      ],
      "text/plain": [
       "       TESTE  VL_BASE_CALCULO\n",
       "0    2100.00          1100.00\n",
       "1    2100.00          1100.00\n",
       "2    2708.84          1708.84\n",
       "3    4378.49          3378.49\n",
       "4    2100.00          1100.00\n",
       "..       ...              ...\n",
       "357  3410.58          2410.58\n",
       "358  3972.73          2972.73\n",
       "359  4326.21          3326.21\n",
       "360  3141.74          2141.74\n",
       "361  4426.86          3426.86\n",
       "\n",
       "[362 rows x 2 columns]"
      ]
     },
     "metadata": {},
     "execution_count": 55
    }
   ],
   "metadata": {}
  },
  {
   "cell_type": "code",
   "execution_count": null,
   "source": [],
   "outputs": [],
   "metadata": {}
  }
 ],
 "metadata": {
  "orig_nbformat": 4,
  "language_info": {
   "name": "python",
   "version": "3.9.7",
   "mimetype": "text/x-python",
   "codemirror_mode": {
    "name": "ipython",
    "version": 3
   },
   "pygments_lexer": "ipython3",
   "nbconvert_exporter": "python",
   "file_extension": ".py"
  },
  "kernelspec": {
   "name": "python3",
   "display_name": "Python 3.9.7 64-bit (windows store)"
  },
  "interpreter": {
   "hash": "94f7e7c947614aa1cda25daa75d25ae2e9a77784bd1ff0ad50cea51dcb4701fc"
  }
 },
 "nbformat": 4,
 "nbformat_minor": 2
}