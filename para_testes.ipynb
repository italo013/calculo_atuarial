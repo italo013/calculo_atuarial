{
 "cells": [
  {
   "cell_type": "code",
   "execution_count": null,
   "source": [
    "#Importando Bibliotecas\r\n",
    "import pandas as pd\r\n",
    "import numpy as np\r\n",
    "import os\r\n",
    "import datetime\r\n",
    "from pathlib import Path"
   ],
   "outputs": [],
   "metadata": {}
  },
  {
   "cell_type": "code",
   "execution_count": null,
   "source": [
    "#Selecionando as Variáveis\r\n",
    "ano_dt_base = 2020"
   ],
   "outputs": [],
   "metadata": {}
  },
  {
   "cell_type": "code",
   "execution_count": null,
   "source": [
    "bd = pd.read_csv(str(Path(os.getcwd())) + '\\\\teste_data.csv', encoding='UTF-8', sep=';')#, thousands=',')\r\n",
    "\r\n",
    "bd['DT_NASC'] = pd.to_datetime(bd['DT_NASC'], yearfirst=True, format='%d/%m/%Y')"
   ],
   "outputs": [],
   "metadata": {}
  },
  {
   "cell_type": "code",
   "execution_count": null,
   "source": [
    "bd['DT_NASC'].mask(bd['DT_NASC'].isnull(), '1800-12-31', axis=0, inplace=True)\r\n",
    "bd['IDADE'] = ano_dt_base - bd['DT_NASC'].dt.strftime('%Y').astype(int)\r\n",
    "bd"
   ],
   "outputs": [],
   "metadata": {}
  },
  {
   "cell_type": "code",
   "execution_count": null,
   "source": [
    "statis_ativos = pd.DataFrame()\r\n",
    "\r\n",
    "statis_ativos['IDADE_CONJUGE'] = ano bd['DT_NASC'].mask(bd['DT_NASC'].isnull(), None, axis=0)#, inplace=True)\r\n",
    "statis_ativos"
   ],
   "outputs": [],
   "metadata": {}
  },
  {
   "cell_type": "code",
   "execution_count": null,
   "source": [
    "statis_ativos['IDADE_CONJUGE'] = ano_dt_base - statis_ativos['IDADE_CONJUGE'].dt.strftime('%Y').astype(int)\r\n",
    "statis_ativos"
   ],
   "outputs": [],
   "metadata": {}
  },
  {
   "cell_type": "code",
   "execution_count": null,
   "source": [
    "statis_ativos['ESTADO_CIVIL'] = bd['ESTADO_CIVIL']\r\n",
    "statis_ativos"
   ],
   "outputs": [],
   "metadata": {}
  },
  {
   "cell_type": "code",
   "execution_count": null,
   "source": [
    "statis_ativos.loc[statis_ativos['ESTADO_CIVIL'] == 1, 'IDADE_CONJUGE'] = None\r\n",
    "statis_ativos"
   ],
   "outputs": [],
   "metadata": {}
  },
  {
   "cell_type": "code",
   "execution_count": null,
   "source": [
    "#type(statis_ativos['IDADE_CONJUGE'].loc[1])\r\n",
    "statis_ativos['IDADE_CONJUGE'].mean()"
   ],
   "outputs": [],
   "metadata": {}
  },
  {
   "cell_type": "code",
   "execution_count": null,
   "source": [
    "type(statis_ativos['IDADE_CONJUGE'].loc[0])"
   ],
   "outputs": [],
   "metadata": {}
  },
  {
   "cell_type": "code",
   "execution_count": null,
   "source": [
    "#bd.loc[bd['ESTADO_CIVIL'] == 2, 'IDADE'] = 2020 - bd['DT_NASC'].dt.strftime('%Y').astype(int)\r\n",
    "bd['DT_NASC'].mask(bd['DT_NASC'].isnull(), '2020-12-31', axis=0, inplace=True)\r\n",
    "bd"
   ],
   "outputs": [],
   "metadata": {}
  },
  {
   "cell_type": "code",
   "execution_count": null,
   "source": [
    "bd['IDADE'] = ano_dt_base - bd['DT_NASC'].dt.strftime('%Y').astype(int)\r\n",
    "bd['IDADE']"
   ],
   "outputs": [],
   "metadata": {}
  },
  {
   "cell_type": "code",
   "execution_count": null,
   "source": [
    "#Importando Bibliotecas\r\n",
    "import pandas as pd\r\n",
    "import numpy as np\r\n",
    "import os\r\n",
    "from pathlib import Path"
   ],
   "outputs": [],
   "metadata": {}
  },
  {
   "cell_type": "code",
   "execution_count": null,
   "source": [],
   "outputs": [],
   "metadata": {}
  }
 ],
 "metadata": {
  "orig_nbformat": 4,
  "language_info": {
   "name": "python",
   "version": "3.9.7",
   "mimetype": "text/x-python",
   "codemirror_mode": {
    "name": "ipython",
    "version": 3
   },
   "pygments_lexer": "ipython3",
   "nbconvert_exporter": "python",
   "file_extension": ".py"
  },
  "kernelspec": {
   "name": "python3",
   "display_name": "Python 3.9.7 64-bit (windows store)"
  },
  "interpreter": {
   "hash": "94f7e7c947614aa1cda25daa75d25ae2e9a77784bd1ff0ad50cea51dcb4701fc"
  }
 },
 "nbformat": 4,
 "nbformat_minor": 2
}