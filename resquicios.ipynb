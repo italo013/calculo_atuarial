{
 "cells": [
  {
   "cell_type": "code",
   "execution_count": null,
   "source": [
    "#------------------------------------------------------------------------------------------------------------------------------------------------------------------------------------------------------------------------------------------------------#\r\n",
    "statis_ativos['IDADE_ADM_ARRED'] = round((bd_ativos.DT_ING_ENTE - bd_ativos.DT_NASC_SERVIDOR) / timedelta(days=365)).astype(int) #Data de Ingresso no Ente - Data de Nascimento do Servidor\r\n",
    "statis_ativos['IDADE_ADM_SEM_ARRED'] = (bd_ativos.DT_ING_ENTE - bd_ativos.DT_NASC_SERVIDOR) / timedelta(days=365)\r\n",
    "statis_ativos['IDADE_ADM_ARRED_CIMA'] = round((bd_ativos.DT_ING_ENTE - bd_ativos.DT_NASC_SERVIDOR) / timedelta(days=365) + 0.5).astype(int)\r\n",
    "statis_ativos['IDADE_ADM_ARRED_BAIXO'] = round((bd_ativos.DT_ING_ENTE - bd_ativos.DT_NASC_SERVIDOR) / timedelta(days=365) - 0.5).astype(int) "
   ],
   "outputs": [],
   "metadata": {}
  },
  {
   "cell_type": "code",
   "execution_count": null,
   "source": [
    "statis_ativos['IDADE_CONJUGE'] = bd_ativos.DT_NASC_CONJUGE.mask(bd_ativos.DT_NASC_CONJUGE.isnull(), '1800-01-01', axis=0)#, inplace=True) #Preenchendo as linhas vazias com alguma data\r\n",
    "statis_ativos.IDADE_CONJUGE = ano_dt_base - statis_ativos.IDADE_CONJUGE.dt.strftime('%Y').astype(int) #Calculando as Idades dos Cônjuges | Ano da Data-Base - Data de Nascimento do Cônjuge\r\n",
    "statis_ativos.loc[(bd_ativos.CO_EST_CIVIL_SERVIDOR == 1) | (bd_ativos.CO_EST_CIVIL_SERVIDOR == 3) | (bd_ativos.CO_EST_CIVIL_SERVIDOR == 4) | (bd_ativos.CO_EST_CIVIL_SERVIDOR == 5) | (statis_ativos.IDADE_CONJUGE > 127), 'IDADE_CONJUGE'] = None #Removendo as datas inseridas"
   ],
   "outputs": [],
   "metadata": {}
  },
  {
   "cell_type": "code",
   "execution_count": null,
   "source": [
    "#Calculando as Estatísticas dos Ativos\r\n",
    "statis_ativos = pd.DataFrame()\r\n",
    "\r\n",
    "statis_ativos['IDADE_SERVIDOR'] = ano_dt_base - bd_ativos['DT_NASC_SERVIDOR'].dt.strftime('%Y').astype(int) #Ano da Data-Base - Data de Nascimento do Servidor\r\n",
    "#------------------------------------------------------------------------------------------------------------------------------------------------------------------------------------------------------------------------------------------------------#\r\n",
    "#statis_ativos['IDADE_ADM'] =  bd_ativos['DT_ING_ENTE'].dt.strftime('%Y').astype(int) - bd_ativos['DT_NASC_SERVIDOR'].dt.strftime('%Y').astype(int) #Data de Ingresso no Ente - Data de Nascimento do Servidor\r\n",
    "statis_ativos['IDADE_ADM'] = round((bd_ativos.DT_ING_ENTE - bd_ativos.DT_NASC_SERVIDOR) / timedelta(days=365)).astype(int) #Data de Ingresso no Ente - Data de Nascimento do Servidor\r\n",
    "#------------------------------------------------------------------------------------------------------------------------------------------------------------------------------------------------------------------------------------------------------#\r\n",
    "statis_ativos['IDADE_CONJUGE'] = bd_ativos['DT_NASC_CONJUGE'].mask(bd_ativos['DT_NASC_CONJUGE'].isnull(), '1800-01-01', axis=0)#, inplace=True) #Preenchendo as linhas vazias com alguma data\r\n",
    "statis_ativos['IDADE_CONJUGE'] = ano_dt_base - statis_ativos['IDADE_CONJUGE'].dt.strftime('%Y').astype(int) #Calculando as Idades dos Cônjuges | Ano da Data-Base - Data de Nascimento do Cônjuge\r\n",
    "statis_ativos.loc[(bd_ativos['CO_EST_CIVIL_SERVIDOR'] == 1) | (bd_ativos['CO_EST_CIVIL_SERVIDOR'] == 3) | (bd_ativos['CO_EST_CIVIL_SERVIDOR'] == 4) | (bd_ativos['CO_EST_CIVIL_SERVIDOR'] == 5), 'IDADE_CONJUGE'] = None #Removendo as datas inseridas\r\n",
    "#------------------------------------------------------------------------------------------------------------------------------------------------------------------------------------------------------------------------------------------------------#\r\n",
    "statis_ativos['IDADE_NOVO'] = bd_ativos['DT_NASC_NOVO'].mask(bd_ativos['DT_NASC_NOVO'].isnull(), '1800-01-01', axis=0)#, inplace=True) #Preenchendo as linhas vazias com alguma data\r\n",
    "statis_ativos['IDADE_NOVO'] = ano_dt_base - statis_ativos['IDADE_NOVO'].dt.strftime('%Y').astype(int) #Calculando as Idades do Filho Mais Novo | Ano da Data-Base - Data de Nascimento do Filho Mais Novo\r\n",
    "statis_ativos.loc[statis_ativos['IDADE_NOVO'] > 21, 'IDADE_NOVO'] = None #Removendo as datas inseridas\r\n",
    "#------------------------------------------------------------------------------------------------------------------------------------------------------------------------------------------------------------------------------------------------------#\r\n",
    "statis_ativos['DIF_ETARIA'] = statis_ativos['IDADE_CONJUGE'] - statis_ativos['IDADE_SERVIDOR'] #Calculando a Diferença Etária do Cônjuge\r\n",
    "\r\n",
    "#statistics_ativos['TSANT'] = bd_ativos['DT_ING_ENTE'] - pd.to_timedelta(bd_ativos['NU_TEMPO_RGPS'], unit='d')\r\n",
    "statis_ativos.head(15)"
   ],
   "outputs": [],
   "metadata": {}
  },
  {
   "cell_type": "code",
   "execution_count": null,
   "source": [
    "statis_ativos['DT_BASE'] = '31/12/2020'\r\n",
    "statis_ativos.DT_BASE = pd.to_datetime(statis_ativos.DT_BASE, yearfirst=True, format='%d/%m/%Y')\r\n",
    "statis_ativos['DT_TESTE'] = round((statis_ativos.DT_BASE - bd_ativos.DT_NASC_SERVIDOR) / timedelta(days=365)).astype(int)\r\n",
    "statis_ativos['DT_TESTE1'] = (statis_ativos.DT_BASE - bd_ativos.DT_NASC_SERVIDOR) / timedelta(days=365)\r\n",
    "statis_ativos['DT_TESTE2'] = round((statis_ativos.DT_BASE - bd_ativos.DT_NASC_SERVIDOR) / timedelta(days=365) - 0.5).astype(int)\r\n",
    "#statis_ativos.DT_TESTE = pd.to_datetime(statis_ativos.DT_TESTE)\r\n",
    "statis_ativos.head(20)\r\n",
    "#type(statis_ativos.DT_TESTE.loc[0])"
   ],
   "outputs": [],
   "metadata": {}
  },
  {
   "cell_type": "code",
   "execution_count": null,
   "source": [],
   "outputs": [],
   "metadata": {}
  },
  {
   "cell_type": "code",
   "execution_count": null,
   "source": [],
   "outputs": [],
   "metadata": {}
  }
 ],
 "metadata": {
  "orig_nbformat": 4,
  "language_info": {
   "name": "python"
  }
 },
 "nbformat": 4,
 "nbformat_minor": 2
}