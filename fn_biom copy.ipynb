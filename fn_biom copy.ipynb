{
 "cells": [
  {
   "cell_type": "code",
   "execution_count": 1,
   "source": [
    "#Importando Bibliotecas\r\n",
    "import pandas as pd\r\n",
    "import numpy as np\r\n",
    "import os\r\n",
    "from pathlib import Path"
   ],
   "outputs": [],
   "metadata": {}
  },
  {
   "cell_type": "code",
   "execution_count": 2,
   "source": [
    "#Selecionando as Variáveis\r\n",
    "tabua_mortalidade = 'AMERICAN EXPERIENCE'\r\n",
    "tabua_mortalidade_inv = 'RRB-44'\r\n",
    "tabua_entrada_inv = 'ALVARO VINDAS'\r\n",
    "tabua_morbidez = 'Atuários Ingleses'\r\n",
    "tx_juros = 0.06\r\n",
    "cres_sal = 0.01\r\n",
    "cres_benef = 0.01"
   ],
   "outputs": [],
   "metadata": {}
  },
  {
   "cell_type": "code",
   "execution_count": 3,
   "source": [
    "#Importando as tábuas com os qx\r\n",
    "qx_morta = pd.read_csv(str(Path(os.getcwd())) + '\\\\Tábuas\\\\tb_mortalidade.csv', encoding='UTF-8', sep=';', usecols=[tabua_mortalidade])\r\n",
    "qx_morta_inv = pd.read_csv(str(Path(os.getcwd())) + '\\\\Tábuas\\\\tb_mortalidade_inv.csv', encoding='UTF-8', sep=';', usecols=[tabua_mortalidade_inv])\r\n",
    "qx_entrada_inv = pd.read_csv(str(Path(os.getcwd())) + '\\\\Tábuas\\\\tb_entrada_inv.csv', encoding='UTF-8', sep=';', usecols=[tabua_entrada_inv])\r\n",
    "qx_morbidez = pd.read_csv(str(Path(os.getcwd())) + '\\\\Tábuas\\\\tb_morbidez.csv', encoding='UTF-8', sep=';', usecols=[tabua_morbidez])"
   ],
   "outputs": [],
   "metadata": {}
  },
  {
   "cell_type": "code",
   "execution_count": 4,
   "source": [
    "#Calculando os px\r\n",
    "px_morta = (1 - qx_morta)\r\n",
    "px_morta_inv = (1 - qx_morta_inv)\r\n",
    "px_entrada_inv = (1 - qx_entrada_inv)\r\n",
    "px_morbidez = (1 - qx_morbidez)"
   ],
   "outputs": [],
   "metadata": {}
  },
  {
   "cell_type": "code",
   "execution_count": 5,
   "source": [
    "#Calculando os dx e lx\r\n",
    "dx_morta = pd.DataFrame(columns=px_morta.columns)\r\n",
    "dx_morta_inv = pd.DataFrame(columns=px_morta_inv.columns)\r\n",
    "dx_entrada_inv = pd.DataFrame(columns=px_entrada_inv.columns)\r\n",
    "dx_morbidez = pd.DataFrame(columns=px_morbidez.columns)\r\n",
    "\r\n",
    "lx_morta = pd.DataFrame(columns=px_morta.columns)\r\n",
    "lx_morta_inv = pd.DataFrame(columns=px_morta_inv.columns)\r\n",
    "lx_entrada_inv = pd.DataFrame(columns=px_entrada_inv.columns)\r\n",
    "lx_morbidez = pd.DataFrame(columns=px_morbidez.columns)\r\n",
    "\r\n",
    "for c in range(127):\r\n",
    "    if c >= 1:\r\n",
    "        lx_morta.loc[c] = lx_morta.loc[c-1] - dx_morta.loc[c-1]\r\n",
    "        lx_morta_inv.loc[c] = lx_morta_inv.loc[c-1] - dx_morta_inv.loc[c-1]\r\n",
    "        lx_entrada_inv.loc[c] = lx_entrada_inv.loc[c-1] - dx_entrada_inv.loc[c-1]\r\n",
    "        lx_morbidez.loc[c] = lx_morbidez.loc[c-1] - dx_morbidez.loc[c-1]\r\n",
    "\r\n",
    "        dx_morta.loc[c] = lx_morta.loc[c] * qx_morta.loc[c]\r\n",
    "        dx_morta_inv.loc[c] = lx_morta_inv.loc[c] * qx_morta_inv.loc[c]\r\n",
    "        dx_entrada_inv.loc[c] = lx_entrada_inv.loc[c] * qx_entrada_inv.loc[c]\r\n",
    "        dx_morbidez.loc[c] = lx_morbidez.loc[c] * qx_morbidez.loc[c]\r\n",
    "\r\n",
    "    else:\r\n",
    "        lx_morta.loc[c] = 100000\r\n",
    "        lx_morta_inv.loc[c] = 100000\r\n",
    "        lx_entrada_inv.loc[c] = 100000\r\n",
    "        lx_morbidez.loc[c] = 100000\r\n",
    "\r\n",
    "        dx_morta.loc[c] = lx_morta.loc[c] * qx_morta.loc[c]\r\n",
    "        dx_morta_inv.loc[c] = lx_morta_inv.loc[c] * qx_morta_inv.loc[c]\r\n",
    "        dx_entrada_inv.loc[c] = lx_entrada_inv.loc[c] * qx_entrada_inv.loc[c]\r\n",
    "        dx_morbidez.loc[c] = lx_morbidez.loc[c] * qx_morbidez.loc[c]\r\n"
   ],
   "outputs": [],
   "metadata": {}
  },
  {
   "cell_type": "code",
   "execution_count": 6,
   "source": [
    "#Calculando as Comutações Dx\r\n",
    "Dx_morta = pd.DataFrame(columns=px_morta.columns)\r\n",
    "\r\n",
    "for c in range(127):\r\n",
    "    Dx_morta.loc[c] = lx_morta.loc[c]/(1+tx_juros)**c\r\n",
    "\r\n",
    "Dx_morta"
   ],
   "outputs": [
    {
     "output_type": "execute_result",
     "data": {
      "text/html": [
       "<div>\n",
       "<style scoped>\n",
       "    .dataframe tbody tr th:only-of-type {\n",
       "        vertical-align: middle;\n",
       "    }\n",
       "\n",
       "    .dataframe tbody tr th {\n",
       "        vertical-align: top;\n",
       "    }\n",
       "\n",
       "    .dataframe thead th {\n",
       "        text-align: right;\n",
       "    }\n",
       "</style>\n",
       "<table border=\"1\" class=\"dataframe\">\n",
       "  <thead>\n",
       "    <tr style=\"text-align: right;\">\n",
       "      <th></th>\n",
       "      <th>AMERICAN EXPERIENCE</th>\n",
       "    </tr>\n",
       "  </thead>\n",
       "  <tbody>\n",
       "    <tr>\n",
       "      <th>0</th>\n",
       "      <td>100000.000000</td>\n",
       "    </tr>\n",
       "    <tr>\n",
       "      <th>1</th>\n",
       "      <td>79745.283019</td>\n",
       "    </tr>\n",
       "    <tr>\n",
       "      <th>2</th>\n",
       "      <td>70454.957547</td>\n",
       "    </tr>\n",
       "    <tr>\n",
       "      <th>3</th>\n",
       "      <td>64107.364674</td>\n",
       "    </tr>\n",
       "    <tr>\n",
       "      <th>4</th>\n",
       "      <td>59032.601495</td>\n",
       "    </tr>\n",
       "    <tr>\n",
       "      <th>...</th>\n",
       "      <td>...</td>\n",
       "    </tr>\n",
       "    <tr>\n",
       "      <th>122</th>\n",
       "      <td>0.000000</td>\n",
       "    </tr>\n",
       "    <tr>\n",
       "      <th>123</th>\n",
       "      <td>0.000000</td>\n",
       "    </tr>\n",
       "    <tr>\n",
       "      <th>124</th>\n",
       "      <td>0.000000</td>\n",
       "    </tr>\n",
       "    <tr>\n",
       "      <th>125</th>\n",
       "      <td>0.000000</td>\n",
       "    </tr>\n",
       "    <tr>\n",
       "      <th>126</th>\n",
       "      <td>0.000000</td>\n",
       "    </tr>\n",
       "  </tbody>\n",
       "</table>\n",
       "<p>127 rows × 1 columns</p>\n",
       "</div>"
      ],
      "text/plain": [
       "     AMERICAN EXPERIENCE\n",
       "0          100000.000000\n",
       "1           79745.283019\n",
       "2           70454.957547\n",
       "3           64107.364674\n",
       "4           59032.601495\n",
       "..                   ...\n",
       "122             0.000000\n",
       "123             0.000000\n",
       "124             0.000000\n",
       "125             0.000000\n",
       "126             0.000000\n",
       "\n",
       "[127 rows x 1 columns]"
      ]
     },
     "metadata": {},
     "execution_count": 6
    }
   ],
   "metadata": {}
  },
  {
   "cell_type": "code",
   "execution_count": 7,
   "source": [
    "#Calculando a Comutação do Nx\r\n",
    "Nx_morta = pd.DataFrame(columns=px_morta.columns)\r\n",
    "\r\n",
    "for c in range(127):\r\n",
    "    Nx_morta.loc[c] = Dx_morta.loc[c:].sum()#.map('{:2f}'.format)\r\n",
    "\r\n",
    "Nx_morta"
   ],
   "outputs": [
    {
     "output_type": "execute_result",
     "data": {
      "text/html": [
       "<div>\n",
       "<style scoped>\n",
       "    .dataframe tbody tr th:only-of-type {\n",
       "        vertical-align: middle;\n",
       "    }\n",
       "\n",
       "    .dataframe tbody tr th {\n",
       "        vertical-align: top;\n",
       "    }\n",
       "\n",
       "    .dataframe thead th {\n",
       "        text-align: right;\n",
       "    }\n",
       "</style>\n",
       "<table border=\"1\" class=\"dataframe\">\n",
       "  <thead>\n",
       "    <tr style=\"text-align: right;\">\n",
       "      <th></th>\n",
       "      <th>AMERICAN EXPERIENCE</th>\n",
       "    </tr>\n",
       "  </thead>\n",
       "  <tbody>\n",
       "    <tr>\n",
       "      <th>0</th>\n",
       "      <td>1.206043e+06</td>\n",
       "    </tr>\n",
       "    <tr>\n",
       "      <th>1</th>\n",
       "      <td>1.106043e+06</td>\n",
       "    </tr>\n",
       "    <tr>\n",
       "      <th>2</th>\n",
       "      <td>1.026298e+06</td>\n",
       "    </tr>\n",
       "    <tr>\n",
       "      <th>3</th>\n",
       "      <td>9.558431e+05</td>\n",
       "    </tr>\n",
       "    <tr>\n",
       "      <th>4</th>\n",
       "      <td>8.917357e+05</td>\n",
       "    </tr>\n",
       "    <tr>\n",
       "      <th>...</th>\n",
       "      <td>...</td>\n",
       "    </tr>\n",
       "    <tr>\n",
       "      <th>122</th>\n",
       "      <td>0.000000e+00</td>\n",
       "    </tr>\n",
       "    <tr>\n",
       "      <th>123</th>\n",
       "      <td>0.000000e+00</td>\n",
       "    </tr>\n",
       "    <tr>\n",
       "      <th>124</th>\n",
       "      <td>0.000000e+00</td>\n",
       "    </tr>\n",
       "    <tr>\n",
       "      <th>125</th>\n",
       "      <td>0.000000e+00</td>\n",
       "    </tr>\n",
       "    <tr>\n",
       "      <th>126</th>\n",
       "      <td>0.000000e+00</td>\n",
       "    </tr>\n",
       "  </tbody>\n",
       "</table>\n",
       "<p>127 rows × 1 columns</p>\n",
       "</div>"
      ],
      "text/plain": [
       "     AMERICAN EXPERIENCE\n",
       "0           1.206043e+06\n",
       "1           1.106043e+06\n",
       "2           1.026298e+06\n",
       "3           9.558431e+05\n",
       "4           8.917357e+05\n",
       "..                   ...\n",
       "122         0.000000e+00\n",
       "123         0.000000e+00\n",
       "124         0.000000e+00\n",
       "125         0.000000e+00\n",
       "126         0.000000e+00\n",
       "\n",
       "[127 rows x 1 columns]"
      ]
     },
     "metadata": {},
     "execution_count": 7
    }
   ],
   "metadata": {}
  },
  {
   "cell_type": "code",
   "execution_count": 8,
   "source": [
    "#Calculando as ANUIDADES\r\n",
    "#Selecionando as Variáveis\r\n",
    "x = 30 #Idade\r\n",
    "n = 20 #Temporariedade\r\n",
    "k = 20 #Diferimento"
   ],
   "outputs": [],
   "metadata": {}
  },
  {
   "cell_type": "code",
   "execution_count": 9,
   "source": [
    "#Anuidade Antecipada e Vitalícia\r\n",
    "#äx = Nx/Dx\r\n",
    "ax_ant_vit = Nx_morta.loc[x]/Dx_morta.loc[x]\r\n",
    "ax_ant_vit"
   ],
   "outputs": [
    {
     "output_type": "execute_result",
     "data": {
      "text/plain": [
       "AMERICAN EXPERIENCE    14.319519\n",
       "Name: 30, dtype: float64"
      ]
     },
     "metadata": {},
     "execution_count": 9
    }
   ],
   "metadata": {}
  },
  {
   "cell_type": "code",
   "execution_count": 10,
   "source": [
    "#Anuidade Postecipada e Vitalícia\r\n",
    "#ax = Nx/Dx\r\n",
    "ax_pos_vit = Nx_morta.loc[x+1]/Dx_morta.loc[x]\r\n",
    "ax_pos_vit"
   ],
   "outputs": [
    {
     "output_type": "execute_result",
     "data": {
      "text/plain": [
       "AMERICAN EXPERIENCE    13.319519\n",
       "dtype: float64"
      ]
     },
     "metadata": {},
     "execution_count": 10
    }
   ],
   "metadata": {}
  },
  {
   "cell_type": "code",
   "execution_count": 11,
   "source": [
    "#Anuidade Antecipada e Temporária\r\n",
    "#äx/n = Nx - Nx+n/Dx\r\n",
    "ax_ant_temp = (Nx_morta.loc[x] - Nx_morta.loc[x+n])/Dx_morta.loc[x]\r\n",
    "ax_ant_temp"
   ],
   "outputs": [
    {
     "output_type": "execute_result",
     "data": {
      "text/plain": [
       "AMERICAN EXPERIENCE    11.354284\n",
       "dtype: float64"
      ]
     },
     "metadata": {},
     "execution_count": 11
    }
   ],
   "metadata": {}
  },
  {
   "cell_type": "code",
   "execution_count": 12,
   "source": [
    "#Anuidade Postecipada e Temporária\r\n",
    "#ax/n = Nx - Nx+n/Dx\r\n",
    "ax_pos_temp = (Nx_morta.loc[x+1] - Nx_morta.loc[x+n+1])/Dx_morta.loc[x]\r\n",
    "ax_pos_temp"
   ],
   "outputs": [
    {
     "output_type": "execute_result",
     "data": {
      "text/plain": [
       "AMERICAN EXPERIENCE    10.609021\n",
       "dtype: float64"
      ]
     },
     "metadata": {},
     "execution_count": 12
    }
   ],
   "metadata": {}
  },
  {
   "cell_type": "code",
   "execution_count": 13,
   "source": [
    "#Anuidade Antecipada, Diferida e Vitalícia\r\n",
    "#k/äx = Nx+k/Dx\r\n",
    "ax_ant_dif = Nx_morta.loc[x+k]/Dx_morta.loc[x]\r\n",
    "ax_ant_dif"
   ],
   "outputs": [
    {
     "output_type": "execute_result",
     "data": {
      "text/plain": [
       "AMERICAN EXPERIENCE    2.965235\n",
       "dtype: float64"
      ]
     },
     "metadata": {},
     "execution_count": 13
    }
   ],
   "metadata": {}
  },
  {
   "cell_type": "code",
   "execution_count": 14,
   "source": [
    "#Anuidade Postecipada, Diferida e Vitalícia\r\n",
    "#k/ax = Nx+k+1/Dx\r\n",
    "ax_pos_dif = Nx_morta.loc[x+k+1]/Dx_morta.loc[x]\r\n",
    "ax_pos_dif"
   ],
   "outputs": [
    {
     "output_type": "execute_result",
     "data": {
      "text/plain": [
       "AMERICAN EXPERIENCE    2.710498\n",
       "dtype: float64"
      ]
     },
     "metadata": {},
     "execution_count": 14
    }
   ],
   "metadata": {}
  },
  {
   "cell_type": "code",
   "execution_count": 15,
   "source": [
    "#Anuidade Antecipada, Diferida e Temporária\r\n",
    "#k/äx/n = Nx+k - Nx+k+n/Dx\r\n",
    "ax_ant_dif_temp = (Nx_morta.loc[x+k] - Nx_morta.loc[x+k+n])/Dx_morta.loc[x]\r\n",
    "ax_ant_dif_temp"
   ],
   "outputs": [
    {
     "output_type": "execute_result",
     "data": {
      "text/plain": [
       "AMERICAN EXPERIENCE    2.67201\n",
       "dtype: float64"
      ]
     },
     "metadata": {},
     "execution_count": 15
    }
   ],
   "metadata": {}
  },
  {
   "cell_type": "code",
   "execution_count": 16,
   "source": [
    "#Anuidade Postecipada, Diferida e Temporária\r\n",
    "#k/äx/n = Nx+k - Nx+k+n/Dx\r\n",
    "ax_pos_dif_temp = (Nx_morta.loc[x+k+1] - Nx_morta.loc[x+k+n+1])/Dx_morta.loc[x]\r\n",
    "ax_pos_dif_temp"
   ],
   "outputs": [
    {
     "output_type": "execute_result",
     "data": {
      "text/plain": [
       "AMERICAN EXPERIENCE    2.46116\n",
       "dtype: float64"
      ]
     },
     "metadata": {},
     "execution_count": 16
    }
   ],
   "metadata": {}
  }
 ],
 "metadata": {
  "orig_nbformat": 4,
  "language_info": {
   "name": "python",
   "version": "3.9.7",
   "mimetype": "text/x-python",
   "codemirror_mode": {
    "name": "ipython",
    "version": 3
   },
   "pygments_lexer": "ipython3",
   "nbconvert_exporter": "python",
   "file_extension": ".py"
  },
  "kernelspec": {
   "name": "python3",
   "display_name": "Python 3.9.7 64-bit"
  },
  "interpreter": {
   "hash": "f083c8420c8fdab0d6e1715cf7391639b50ba44f9a4673fc1d3683152c967feb"
  }
 },
 "nbformat": 4,
 "nbformat_minor": 2
}