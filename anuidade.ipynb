{
 "cells": [
  {
   "cell_type": "code",
   "execution_count": 14,
   "metadata": {},
   "outputs": [],
   "source": [
    "#Importando Bibliotecas\n",
    "import pandas as pd\n",
    "import numpy as np\n",
    "import os\n",
    "from pathlib import Path"
   ]
  },
  {
   "cell_type": "code",
   "execution_count": 15,
   "metadata": {},
   "outputs": [],
   "source": [
    "#Selecionando as Variáveis\n",
    "tabua_mortalidade = 'AMERICAN EXPERIENCE'\n",
    "tabua_mortalidade_inv = 'RRB-44'\n",
    "tabua_entrada_inv = 'ALVARO VINDAS'\n",
    "tabua_morbidez = 'Atuários Ingleses'\n",
    "tx_juros = 0.06\n",
    "cres_sal = 0.05\n",
    "cres_benef = 0.01"
   ]
  },
  {
   "cell_type": "code",
   "execution_count": 16,
   "metadata": {},
   "outputs": [],
   "source": [
    "#Importando as tábuas com os qx\n",
    "qx_morta = pd.read_csv(str(Path(os.getcwd())) + '\\\\Tábuas\\\\tb_mortalidade.csv', encoding='UTF-8', sep=';', usecols=[tabua_mortalidade])\n",
    "qx_morta_inv = pd.read_csv(str(Path(os.getcwd())) + '\\\\Tábuas\\\\tb_mortalidade_inv.csv', encoding='UTF-8', sep=';', usecols=[tabua_mortalidade_inv])\n",
    "qx_entrada_inv = pd.read_csv(str(Path(os.getcwd())) + '\\\\Tábuas\\\\tb_entrada_inv.csv', encoding='UTF-8', sep=';', usecols=[tabua_entrada_inv])\n",
    "qx_morbidez = pd.read_csv(str(Path(os.getcwd())) + '\\\\Tábuas\\\\tb_morbidez.csv', encoding='UTF-8', sep=';', usecols=[tabua_morbidez])"
   ]
  },
  {
   "cell_type": "code",
   "execution_count": 17,
   "metadata": {},
   "outputs": [],
   "source": [
    "#qx = pd.read_excel(str(Path(os.getcwd())) + '\\\\Tábuas\\\\Funções Biométricas (Com Fórmulas).xlsx', sheet_name='qx')\n",
    "#px = pd.read_excel(str(Path(os.getcwd())) + '\\\\Tábuas\\\\Funções Biométricas (Com Fórmulas).xlsx', sheet_name='px')\n",
    "#lx = pd.read_excel(str(Path(os.getcwd())) + '\\\\Tábuas\\\\Funções Biométricas (Com Fórmulas).xlsx', sheet_name='lx')\n",
    "#dx = pd.read_excel(str(Path(os.getcwd())) + '\\\\Tábuas\\\\Funções Biométricas (Com Fórmulas).xlsx', sheet_name='dx')"
   ]
  },
  {
   "cell_type": "code",
   "execution_count": 18,
   "metadata": {},
   "outputs": [
    {
     "data": {
      "text/plain": [
       "0      100000.0000\n",
       "1       84530.0000\n",
       "2       79163.1903\n",
       "3       76352.8970\n",
       "4       74527.2992\n",
       "          ...     \n",
       "122         0.0000\n",
       "123         0.0000\n",
       "124         0.0000\n",
       "125         0.0000\n",
       "126         0.0000\n",
       "Name: AMERICAN EXPERIENCE, Length: 127, dtype: float64"
      ]
     },
     "execution_count": 18,
     "metadata": {},
     "output_type": "execute_result"
    }
   ],
   "source": [
    "lx2 = pd.read_csv(str(Path(os.getcwd())) + '\\\\Tábuas\\\\tb_lx.csv', encoding='UTF-8', sep=';')#, usecols=[tabua_mortalidade])\n",
    "#lx2['AMERICAN EXPERIENCE'].str.replace(',', '.').astype(float)\n",
    "lx2[tabua_mortalidade] = lx2[tabua_mortalidade].str.replace(',', '.').astype(float)\n",
    "#lx2 = lx2.str.replace(',', '.').astype(float)\n",
    "lx2[tabua_mortalidade]"
   ]
  },
  {
   "cell_type": "code",
   "execution_count": 19,
   "metadata": {},
   "outputs": [],
   "source": [
    "#Calculando os px\n",
    "px_morta = (1 - qx_morta)\n",
    "px_morta_inv = (1 - qx_morta_inv)\n",
    "px_entrada_inv = (1 - qx_entrada_inv)\n",
    "px_morbidez = (1 - qx_morbidez)"
   ]
  },
  {
   "cell_type": "code",
   "execution_count": 20,
   "metadata": {},
   "outputs": [],
   "source": [
    "#Calculando os dx e lx\n",
    "dx_morta = pd.DataFrame(columns=px_morta.columns)\n",
    "dx_morta_inv = pd.DataFrame(columns=px_morta_inv.columns)\n",
    "dx_entrada_inv = pd.DataFrame(columns=px_entrada_inv.columns)\n",
    "dx_morbidez = pd.DataFrame(columns=px_morbidez.columns)\n",
    "\n",
    "lx_morta = pd.DataFrame(columns=px_morta.columns)\n",
    "lx_morta_inv = pd.DataFrame(columns=px_morta_inv.columns)\n",
    "lx_entrada_inv = pd.DataFrame(columns=px_entrada_inv.columns)\n",
    "lx_morbidez = pd.DataFrame(columns=px_morbidez.columns)\n",
    "\n",
    "for c in range(127):\n",
    "    if c >= 1:\n",
    "        lx_morta.loc[c] = lx_morta.loc[c-1] - dx_morta.loc[c-1]\n",
    "        lx_morta_inv.loc[c] = lx_morta_inv.loc[c-1] - dx_morta_inv.loc[c-1]\n",
    "        lx_entrada_inv.loc[c] = lx_entrada_inv.loc[c-1] - dx_entrada_inv.loc[c-1]\n",
    "        lx_morbidez.loc[c] = lx_morbidez.loc[c-1] - dx_morbidez.loc[c-1]\n",
    "\n",
    "        dx_morta.loc[c] = lx_morta.loc[c] * qx_morta.loc[c]\n",
    "        dx_morta_inv.loc[c] = lx_morta_inv.loc[c] * qx_morta_inv.loc[c]\n",
    "        dx_entrada_inv.loc[c] = lx_entrada_inv.loc[c] * qx_entrada_inv.loc[c]\n",
    "        dx_morbidez.loc[c] = lx_morbidez.loc[c] * qx_morbidez.loc[c]\n",
    "\n",
    "    else:\n",
    "        lx_morta.loc[c] = 100000\n",
    "        lx_morta_inv.loc[c] = 100000\n",
    "        lx_entrada_inv.loc[c] = 100000\n",
    "        lx_morbidez.loc[c] = 100000\n",
    "\n",
    "        dx_morta.loc[c] = lx_morta.loc[c] * qx_morta.loc[c]\n",
    "        dx_morta_inv.loc[c] = lx_morta_inv.loc[c] * qx_morta_inv.loc[c]\n",
    "        dx_entrada_inv.loc[c] = lx_entrada_inv.loc[c] * qx_entrada_inv.loc[c]\n",
    "        dx_morbidez.loc[c] = lx_morbidez.loc[c] * qx_morbidez.loc[c]\n"
   ]
  },
  {
   "cell_type": "code",
   "execution_count": 21,
   "metadata": {},
   "outputs": [],
   "source": [
    "#Calculando as Comutações Dx\n",
    "Dx_morta = pd.DataFrame(columns=px_morta.columns)\n",
    "Dx_morta_inv = pd.DataFrame(columns=px_morta.columns)\n",
    "Dx_entrada_inv = pd.DataFrame(columns=px_morta.columns)\n",
    "Dx_morbidez = pd.DataFrame(columns=px_morta.columns)\n",
    "\n",
    "for c in range(127):\n",
    "    Dx_morta.loc[c] = lx_morta.loc[c]/((1+tx_juros)/(1+cres_sal))**c\n",
    "    Dx_morta_inv.loc[c] = lx_morta.loc[c]/((1+tx_juros)/(1+cres_sal))**c\n",
    "    Dx_entrada_inv.loc[c] = lx_morta.loc[c]/((1+tx_juros)/(1+cres_sal))**c\n",
    "    Dx_morbidez.loc[c] = lx_morta.loc[c]/((1+tx_juros)/(1+cres_sal))**c"
   ]
  },
  {
   "cell_type": "code",
   "execution_count": 34,
   "metadata": {},
   "outputs": [],
   "source": [
    "#Calculando a Comutação do Nx\n",
    "Nx_morta = pd.DataFrame(columns=px_morta.columns)\n",
    "Nx_morta_inv = pd.DataFrame(columns=px_morta.columns)\n",
    "Nx_entrada_inv = pd.DataFrame(columns=px_morta.columns)\n",
    "Nx_morbidez = pd.DataFrame(columns=px_morta.columns)\n",
    "\n",
    "for c in range(127):\n",
    "    Nx_morta.loc[c] = Dx_morta.loc[c:].sum()#.map('{:2f}'.format)\n",
    "    #Nx_morta_inv.loc[c] = Dx_morta.loc[c:].sum()#.map('{:2f}'.format)\n",
    "    #Nx_entrada_inv.loc[c] = Dx_morta.loc[c:].sum()#.map('{:2f}'.format)\n",
    "    #Nx_morbidez.loc[c] = Dx_morta.loc[c:].sum()#.map('{:2f}'.format)"
   ]
  },
  {
   "cell_type": "code",
   "execution_count": 40,
   "metadata": {},
   "outputs": [
    {
     "data": {
      "text/plain": [
       "AMERICAN EXPERIENCE    3.050766e+06\n",
       "Name: 1, dtype: float64"
      ]
     },
     "execution_count": 40,
     "metadata": {},
     "output_type": "execute_result"
    }
   ],
   "source": [
    "Nx_morta.loc[1]"
   ]
  },
  {
   "cell_type": "code",
   "execution_count": 23,
   "metadata": {},
   "outputs": [],
   "source": [
    "#Calculando as ANUIDADES\n",
    "#Selecionando as Variáveis\n",
    "x = 30 #Idade\n",
    "n = 20 #Temporariedade\n",
    "k = 20 #Diferimento"
   ]
  },
  {
   "cell_type": "code",
   "execution_count": 24,
   "metadata": {},
   "outputs": [
    {
     "data": {
      "text/plain": [
       "AMERICAN EXPERIENCE    29.729245\n",
       "Name: 30, dtype: float64"
      ]
     },
     "execution_count": 24,
     "metadata": {},
     "output_type": "execute_result"
    }
   ],
   "source": [
    "#Anuidade Antecipada e Vitalícia\n",
    "#äx = Nx/Dx\n",
    "ax_ant_vit = Nx_morta.loc[x]/Dx_morta.loc[x]\n",
    "ax_ant_vit"
   ]
  },
  {
   "cell_type": "code",
   "execution_count": 25,
   "metadata": {},
   "outputs": [
    {
     "data": {
      "text/plain": [
       "AMERICAN EXPERIENCE    28.729245\n",
       "dtype: float64"
      ]
     },
     "execution_count": 25,
     "metadata": {},
     "output_type": "execute_result"
    }
   ],
   "source": [
    "#Anuidade Postecipada e Vitalícia\n",
    "#ax = Nx/Dx\n",
    "ax_pos_vit = Nx_morta.loc[x+1]/Dx_morta.loc[x]\n",
    "ax_pos_vit"
   ]
  },
  {
   "cell_type": "code",
   "execution_count": 26,
   "metadata": {},
   "outputs": [
    {
     "data": {
      "text/plain": [
       "AMERICAN EXPERIENCE    16.836239\n",
       "dtype: float64"
      ]
     },
     "execution_count": 26,
     "metadata": {},
     "output_type": "execute_result"
    }
   ],
   "source": [
    "#Anuidade Antecipada e Temporária\n",
    "#äx/n = Nx - Nx+n/Dx\n",
    "ax_ant_temp = (Nx_morta.loc[x] - Nx_morta.loc[x+n])/Dx_morta.loc[x]\n",
    "ax_ant_temp"
   ]
  },
  {
   "cell_type": "code",
   "execution_count": 27,
   "metadata": {},
   "outputs": [
    {
     "data": {
      "text/plain": [
       "AMERICAN EXPERIENCE    16.512131\n",
       "dtype: float64"
      ]
     },
     "execution_count": 27,
     "metadata": {},
     "output_type": "execute_result"
    }
   ],
   "source": [
    "#Anuidade Postecipada e Temporária\n",
    "#ax/n = Nx - Nx+n/Dx\n",
    "ax_pos_temp = (Nx_morta.loc[x+1] - Nx_morta.loc[x+n+1])/Dx_morta.loc[x]\n",
    "ax_pos_temp"
   ]
  },
  {
   "cell_type": "code",
   "execution_count": 28,
   "metadata": {},
   "outputs": [
    {
     "data": {
      "text/plain": [
       "AMERICAN EXPERIENCE    12.893006\n",
       "dtype: float64"
      ]
     },
     "execution_count": 28,
     "metadata": {},
     "output_type": "execute_result"
    }
   ],
   "source": [
    "#Anuidade Antecipada, Diferida e Vitalícia\n",
    "#k/äx = Nx+k/Dx\n",
    "ax_ant_dif = Nx_morta.loc[x+k]/Dx_morta.loc[x]\n",
    "ax_ant_dif"
   ]
  },
  {
   "cell_type": "code",
   "execution_count": 29,
   "metadata": {},
   "outputs": [
    {
     "data": {
      "text/plain": [
       "AMERICAN EXPERIENCE    12.217114\n",
       "dtype: float64"
      ]
     },
     "execution_count": 29,
     "metadata": {},
     "output_type": "execute_result"
    }
   ],
   "source": [
    "#Anuidade Postecipada, Diferida e Vitalícia\n",
    "#k/ax = Nx+k+1/Dx\n",
    "ax_pos_dif = Nx_morta.loc[x+k+1]/Dx_morta.loc[x]\n",
    "ax_pos_dif"
   ]
  },
  {
   "cell_type": "code",
   "execution_count": 30,
   "metadata": {},
   "outputs": [
    {
     "data": {
      "text/plain": [
       "AMERICAN EXPERIENCE    10.261788\n",
       "dtype: float64"
      ]
     },
     "execution_count": 30,
     "metadata": {},
     "output_type": "execute_result"
    }
   ],
   "source": [
    "#Anuidade Antecipada, Diferida e Temporária\n",
    "#k/äx/n = Nx+k - Nx+k+n/Dx\n",
    "ax_ant_dif_temp = (Nx_morta.loc[x+k] - Nx_morta.loc[x+k+n])/Dx_morta.loc[x]\n",
    "ax_ant_dif_temp"
   ]
  },
  {
   "cell_type": "code",
   "execution_count": 31,
   "metadata": {},
   "outputs": [
    {
     "data": {
      "text/plain": [
       "AMERICAN EXPERIENCE    9.894855\n",
       "dtype: float64"
      ]
     },
     "execution_count": 31,
     "metadata": {},
     "output_type": "execute_result"
    }
   ],
   "source": [
    "#Anuidade Postecipada, Diferida e Temporária\n",
    "#k/äx/n = Nx+k - Nx+k+n/Dx\n",
    "ax_pos_dif_temp = (Nx_morta.loc[x+k+1] - Nx_morta.loc[x+k+n+1])/Dx_morta.loc[x]\n",
    "ax_pos_dif_temp"
   ]
  },
  {
   "cell_type": "code",
   "execution_count": 32,
   "metadata": {},
   "outputs": [
    {
     "data": {
      "text/html": [
       "<div>\n",
       "<style scoped>\n",
       "    .dataframe tbody tr th:only-of-type {\n",
       "        vertical-align: middle;\n",
       "    }\n",
       "\n",
       "    .dataframe tbody tr th {\n",
       "        vertical-align: top;\n",
       "    }\n",
       "\n",
       "    .dataframe thead th {\n",
       "        text-align: right;\n",
       "    }\n",
       "</style>\n",
       "<table border=\"1\" class=\"dataframe\">\n",
       "  <thead>\n",
       "    <tr style=\"text-align: right;\">\n",
       "      <th></th>\n",
       "      <th>RRB-44</th>\n",
       "    </tr>\n",
       "  </thead>\n",
       "  <tbody>\n",
       "    <tr>\n",
       "      <th>0</th>\n",
       "      <td>100000</td>\n",
       "    </tr>\n",
       "    <tr>\n",
       "      <th>1</th>\n",
       "      <td>100000.0</td>\n",
       "    </tr>\n",
       "    <tr>\n",
       "      <th>2</th>\n",
       "      <td>100000.0</td>\n",
       "    </tr>\n",
       "    <tr>\n",
       "      <th>3</th>\n",
       "      <td>100000.0</td>\n",
       "    </tr>\n",
       "    <tr>\n",
       "      <th>4</th>\n",
       "      <td>100000.0</td>\n",
       "    </tr>\n",
       "    <tr>\n",
       "      <th>...</th>\n",
       "      <td>...</td>\n",
       "    </tr>\n",
       "    <tr>\n",
       "      <th>122</th>\n",
       "      <td>NaN</td>\n",
       "    </tr>\n",
       "    <tr>\n",
       "      <th>123</th>\n",
       "      <td>NaN</td>\n",
       "    </tr>\n",
       "    <tr>\n",
       "      <th>124</th>\n",
       "      <td>NaN</td>\n",
       "    </tr>\n",
       "    <tr>\n",
       "      <th>125</th>\n",
       "      <td>NaN</td>\n",
       "    </tr>\n",
       "    <tr>\n",
       "      <th>126</th>\n",
       "      <td>NaN</td>\n",
       "    </tr>\n",
       "  </tbody>\n",
       "</table>\n",
       "<p>127 rows × 1 columns</p>\n",
       "</div>"
      ],
      "text/plain": [
       "       RRB-44\n",
       "0      100000\n",
       "1    100000.0\n",
       "2    100000.0\n",
       "3    100000.0\n",
       "4    100000.0\n",
       "..        ...\n",
       "122       NaN\n",
       "123       NaN\n",
       "124       NaN\n",
       "125       NaN\n",
       "126       NaN\n",
       "\n",
       "[127 rows x 1 columns]"
      ]
     },
     "execution_count": 32,
     "metadata": {},
     "output_type": "execute_result"
    }
   ],
   "source": [
    "lx_morta_inv"
   ]
  }
 ],
 "metadata": {
  "interpreter": {
   "hash": "94f7e7c947614aa1cda25daa75d25ae2e9a77784bd1ff0ad50cea51dcb4701fc"
  },
  "kernelspec": {
   "display_name": "Python 3.9.7 64-bit (windows store)",
   "name": "python3"
  },
  "language_info": {
   "codemirror_mode": {
    "name": "ipython",
    "version": 3
   },
   "file_extension": ".py",
   "mimetype": "text/x-python",
   "name": "python",
   "nbconvert_exporter": "python",
   "pygments_lexer": "ipython3",
   "version": "3.9.7"
  },
  "orig_nbformat": 4
 },
 "nbformat": 4,
 "nbformat_minor": 2
}
