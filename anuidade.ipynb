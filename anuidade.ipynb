{
 "cells": [
  {
   "cell_type": "code",
   "execution_count": 17,
   "source": [
    "#Importando Bibliotecas\r\n",
    "import pandas as pd\r\n",
    "import numpy as np\r\n",
    "import os\r\n",
    "from pathlib import Path"
   ],
   "outputs": [],
   "metadata": {}
  },
  {
   "cell_type": "code",
   "execution_count": 18,
   "source": [
    "#Selecionando as Variáveis\r\n",
    "tabua_mortalidade = 'AMERICAN EXPERIENCE'\r\n",
    "tabua_mortalidade_inv = 'RRB-44'\r\n",
    "tabua_entrada_inv = 'ALVARO VINDAS'\r\n",
    "tabua_morbidez = 'Atuários Ingleses'\r\n",
    "tx_juros = 0.06\r\n",
    "cres_sal = 0.01\r\n",
    "cres_benef = 0.01"
   ],
   "outputs": [],
   "metadata": {}
  },
  {
   "cell_type": "code",
   "execution_count": 19,
   "source": [
    "#Importando as tábuas com os qx\r\n",
    "qx_morta = pd.read_csv(str(Path(os.getcwd())) + '\\\\Tábuas\\\\tb_mortalidade.csv', encoding='UTF-8', sep=';', usecols=[tabua_mortalidade])\r\n",
    "qx_morta_inv = pd.read_csv(str(Path(os.getcwd())) + '\\\\Tábuas\\\\tb_mortalidade_inv.csv', encoding='UTF-8', sep=';', usecols=[tabua_mortalidade_inv])\r\n",
    "qx_entrada_inv = pd.read_csv(str(Path(os.getcwd())) + '\\\\Tábuas\\\\tb_entrada_inv.csv', encoding='UTF-8', sep=';', usecols=[tabua_entrada_inv])\r\n",
    "qx_morbidez = pd.read_csv(str(Path(os.getcwd())) + '\\\\Tábuas\\\\tb_morbidez.csv', encoding='UTF-8', sep=';', usecols=[tabua_morbidez])"
   ],
   "outputs": [],
   "metadata": {}
  },
  {
   "cell_type": "code",
   "execution_count": 20,
   "source": [
    "#Calculando os px\r\n",
    "px_morta = (1 - qx_morta)\r\n",
    "px_morta_inv = (1 - qx_morta_inv)\r\n",
    "px_entrada_inv = (1 - qx_entrada_inv)\r\n",
    "px_morbidez = (1 - qx_morbidez)"
   ],
   "outputs": [],
   "metadata": {}
  },
  {
   "cell_type": "code",
   "execution_count": 21,
   "source": [
    "#Calculando os dx e lx\r\n",
    "dx_morta = pd.DataFrame(columns=px_morta.columns)\r\n",
    "dx_morta_inv = pd.DataFrame(columns=px_morta_inv.columns)\r\n",
    "dx_entrada_inv = pd.DataFrame(columns=px_entrada_inv.columns)\r\n",
    "dx_morbidez = pd.DataFrame(columns=px_morbidez.columns)\r\n",
    "\r\n",
    "lx_morta = pd.DataFrame(columns=px_morta.columns)\r\n",
    "lx_morta_inv = pd.DataFrame(columns=px_morta_inv.columns)\r\n",
    "lx_entrada_inv = pd.DataFrame(columns=px_entrada_inv.columns)\r\n",
    "lx_morbidez = pd.DataFrame(columns=px_morbidez.columns)\r\n",
    "\r\n",
    "for c in range(127):\r\n",
    "    if c >= 1:\r\n",
    "        lx_morta.loc[c] = lx_morta.loc[c-1] - dx_morta.loc[c-1]\r\n",
    "        lx_morta_inv.loc[c] = lx_morta_inv.loc[c-1] - dx_morta_inv.loc[c-1]\r\n",
    "        lx_entrada_inv.loc[c] = lx_entrada_inv.loc[c-1] - dx_entrada_inv.loc[c-1]\r\n",
    "        lx_morbidez.loc[c] = lx_morbidez.loc[c-1] - dx_morbidez.loc[c-1]\r\n",
    "\r\n",
    "        dx_morta.loc[c] = lx_morta.loc[c] * qx_morta.loc[c]\r\n",
    "        dx_morta_inv.loc[c] = lx_morta_inv.loc[c] * qx_morta_inv.loc[c]\r\n",
    "        dx_entrada_inv.loc[c] = lx_entrada_inv.loc[c] * qx_entrada_inv.loc[c]\r\n",
    "        dx_morbidez.loc[c] = lx_morbidez.loc[c] * qx_morbidez.loc[c]\r\n",
    "\r\n",
    "    else:\r\n",
    "        lx_morta.loc[c] = 100000\r\n",
    "        lx_morta_inv.loc[c] = 100000\r\n",
    "        lx_entrada_inv.loc[c] = 100000\r\n",
    "        lx_morbidez.loc[c] = 100000\r\n",
    "\r\n",
    "        dx_morta.loc[c] = lx_morta.loc[c] * qx_morta.loc[c]\r\n",
    "        dx_morta_inv.loc[c] = lx_morta_inv.loc[c] * qx_morta_inv.loc[c]\r\n",
    "        dx_entrada_inv.loc[c] = lx_entrada_inv.loc[c] * qx_entrada_inv.loc[c]\r\n",
    "        dx_morbidez.loc[c] = lx_morbidez.loc[c] * qx_morbidez.loc[c]\r\n"
   ],
   "outputs": [],
   "metadata": {}
  },
  {
   "cell_type": "code",
   "execution_count": 22,
   "source": [
    "#Calculando as Comutações Dx\r\n",
    "Dx_morta = pd.DataFrame(columns=px_morta.columns)\r\n",
    "Dx_morta_inv = pd.DataFrame(columns=px_morta.columns)\r\n",
    "Dx_entrada_inv = pd.DataFrame(columns=px_morta.columns)\r\n",
    "Dx_morbidez = pd.DataFrame(columns=px_morta.columns)\r\n",
    "\r\n",
    "for c in range(127):\r\n",
    "    Dx_morta.loc[c] = lx_morta.loc[c]/((1+tx_juros)/(1+cres_sal))**c\r\n",
    "    Dx_morta_inv.loc[c] = lx_morta.loc[c]/((1+tx_juros)/(1+cres_sal))**c\r\n",
    "    Dx_entrada_inv.loc[c] = lx_morta.loc[c]/((1+tx_juros)/(1+cres_sal))**c\r\n",
    "    Dx_morbidez.loc[c] = lx_morta.loc[c]/((1+tx_juros)/(1+cres_sal))**c"
   ],
   "outputs": [],
   "metadata": {}
  },
  {
   "cell_type": "code",
   "execution_count": 23,
   "source": [
    "#Calculando a Comutação do Nx\r\n",
    "Nx_morta = pd.DataFrame(columns=px_morta.columns)\r\n",
    "Nx_morta_inv = pd.DataFrame(columns=px_morta.columns)\r\n",
    "Nx_entrada_inv = pd.DataFrame(columns=px_morta.columns)\r\n",
    "Nx_morbidez = pd.DataFrame(columns=px_morta.columns)\r\n",
    "\r\n",
    "for c in range(127):\r\n",
    "    Nx_morta.loc[c] = Dx_morta.loc[c:].sum()#.map('{:2f}'.format)\r\n",
    "    Nx_morta_inv.loc[c] = Dx_morta.loc[c:].sum()#.map('{:2f}'.format)\r\n",
    "    Nx_entrada_inv.loc[c] = Dx_morta.loc[c:].sum()#.map('{:2f}'.format)\r\n",
    "    Nx_morbidez.loc[c] = Dx_morta.loc[c:].sum()#.map('{:2f}'.format)"
   ],
   "outputs": [],
   "metadata": {}
  },
  {
   "cell_type": "code",
   "execution_count": 24,
   "source": [
    "#Calculando as ANUIDADES\r\n",
    "#Selecionando as Variáveis\r\n",
    "x = 30 #Idade\r\n",
    "n = 20 #Temporariedade\r\n",
    "k = 20 #Diferimento"
   ],
   "outputs": [],
   "metadata": {}
  },
  {
   "cell_type": "code",
   "execution_count": 25,
   "source": [
    "#Anuidade Antecipada e Vitalícia\r\n",
    "#äx = Nx/Dx\r\n",
    "ax_ant_vit = Nx_morta.loc[x]/Dx_morta.loc[x]\r\n",
    "ax_ant_vit"
   ],
   "outputs": [
    {
     "output_type": "execute_result",
     "data": {
      "text/plain": [
       "AMERICAN EXPERIENCE    16.181867\n",
       "Name: 30, dtype: float64"
      ]
     },
     "metadata": {},
     "execution_count": 25
    }
   ],
   "metadata": {}
  },
  {
   "cell_type": "code",
   "execution_count": 26,
   "source": [
    "#Anuidade Postecipada e Vitalícia\r\n",
    "#ax = Nx/Dx\r\n",
    "ax_pos_vit = Nx_morta.loc[x+1]/Dx_morta.loc[x]\r\n",
    "ax_pos_vit"
   ],
   "outputs": [
    {
     "output_type": "execute_result",
     "data": {
      "text/plain": [
       "AMERICAN EXPERIENCE    15.181867\n",
       "dtype: float64"
      ]
     },
     "metadata": {},
     "execution_count": 26
    }
   ],
   "metadata": {}
  },
  {
   "cell_type": "code",
   "execution_count": 27,
   "source": [
    "#Anuidade Antecipada e Temporária\r\n",
    "#äx/n = Nx - Nx+n/Dx\r\n",
    "ax_ant_temp = (Nx_morta.loc[x] - Nx_morta.loc[x+n])/Dx_morta.loc[x]\r\n",
    "ax_ant_temp"
   ],
   "outputs": [
    {
     "output_type": "execute_result",
     "data": {
      "text/plain": [
       "AMERICAN EXPERIENCE    12.22923\n",
       "dtype: float64"
      ]
     },
     "metadata": {},
     "execution_count": 27
    }
   ],
   "metadata": {}
  },
  {
   "cell_type": "code",
   "execution_count": 28,
   "source": [
    "#Anuidade Postecipada e Temporária\r\n",
    "#ax/n = Nx - Nx+n/Dx\r\n",
    "ax_pos_temp = (Nx_morta.loc[x+1] - Nx_morta.loc[x+n+1])/Dx_morta.loc[x]\r\n",
    "ax_pos_temp"
   ],
   "outputs": [
    {
     "output_type": "execute_result",
     "data": {
      "text/plain": [
       "AMERICAN EXPERIENCE    11.540057\n",
       "dtype: float64"
      ]
     },
     "metadata": {},
     "execution_count": 28
    }
   ],
   "metadata": {}
  },
  {
   "cell_type": "code",
   "execution_count": 29,
   "source": [
    "#Anuidade Antecipada, Diferida e Vitalícia\r\n",
    "#k/äx = Nx+k/Dx\r\n",
    "ax_ant_dif = Nx_morta.loc[x+k]/Dx_morta.loc[x]\r\n",
    "ax_ant_dif"
   ],
   "outputs": [
    {
     "output_type": "execute_result",
     "data": {
      "text/plain": [
       "AMERICAN EXPERIENCE    3.952637\n",
       "dtype: float64"
      ]
     },
     "metadata": {},
     "execution_count": 29
    }
   ],
   "metadata": {}
  },
  {
   "cell_type": "code",
   "execution_count": 30,
   "source": [
    "#Anuidade Postecipada, Diferida e Vitalícia\r\n",
    "#k/ax = Nx+k+1/Dx\r\n",
    "ax_pos_dif = Nx_morta.loc[x+k+1]/Dx_morta.loc[x]\r\n",
    "ax_pos_dif"
   ],
   "outputs": [
    {
     "output_type": "execute_result",
     "data": {
      "text/plain": [
       "AMERICAN EXPERIENCE    3.64181\n",
       "dtype: float64"
      ]
     },
     "metadata": {},
     "execution_count": 30
    }
   ],
   "metadata": {}
  },
  {
   "cell_type": "code",
   "execution_count": 31,
   "source": [
    "#Anuidade Antecipada, Diferida e Temporária\r\n",
    "#k/äx/n = Nx+k - Nx+k+n/Dx\r\n",
    "ax_ant_dif_temp = (Nx_morta.loc[x+k] - Nx_morta.loc[x+k+n])/Dx_morta.loc[x]\r\n",
    "ax_ant_dif_temp"
   ],
   "outputs": [
    {
     "output_type": "execute_result",
     "data": {
      "text/plain": [
       "AMERICAN EXPERIENCE    3.495531\n",
       "dtype: float64"
      ]
     },
     "metadata": {},
     "execution_count": 31
    }
   ],
   "metadata": {}
  },
  {
   "cell_type": "code",
   "execution_count": 32,
   "source": [
    "#Anuidade Postecipada, Diferida e Temporária\r\n",
    "#k/äx/n = Nx+k - Nx+k+n/Dx\r\n",
    "ax_pos_dif_temp = (Nx_morta.loc[x+k+1] - Nx_morta.loc[x+k+n+1])/Dx_morta.loc[x]\r\n",
    "ax_pos_dif_temp"
   ],
   "outputs": [
    {
     "output_type": "execute_result",
     "data": {
      "text/plain": [
       "AMERICAN EXPERIENCE    3.250045\n",
       "dtype: float64"
      ]
     },
     "metadata": {},
     "execution_count": 32
    }
   ],
   "metadata": {}
  }
 ],
 "metadata": {
  "orig_nbformat": 4,
  "language_info": {
   "name": "python",
   "version": "3.9.7",
   "mimetype": "text/x-python",
   "codemirror_mode": {
    "name": "ipython",
    "version": 3
   },
   "pygments_lexer": "ipython3",
   "nbconvert_exporter": "python",
   "file_extension": ".py"
  },
  "kernelspec": {
   "name": "python3",
   "display_name": "Python 3.9.7 64-bit (windows store)"
  },
  "interpreter": {
   "hash": "94f7e7c947614aa1cda25daa75d25ae2e9a77784bd1ff0ad50cea51dcb4701fc"
  }
 },
 "nbformat": 4,
 "nbformat_minor": 2
}